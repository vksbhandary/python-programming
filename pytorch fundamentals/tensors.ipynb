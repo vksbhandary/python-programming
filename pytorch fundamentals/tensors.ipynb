{
 "cells": [
  {
   "cell_type": "code",
   "execution_count": 1,
   "metadata": {},
   "outputs": [],
   "source": [
    "import torch\n",
    "import numpy as np"
   ]
  },
  {
   "cell_type": "markdown",
   "metadata": {},
   "source": [
    "# Creating Tensors"
   ]
  },
  {
   "cell_type": "code",
   "execution_count": 5,
   "metadata": {},
   "outputs": [],
   "source": [
    "def describe(x):\n",
    "    print(\"Type: {}\".format(x.type()))\n",
    "    print(\"Shape: {}\".format(x.shape))\n",
    "    print(\"value: \\n{}\".format(x))\n",
    "    "
   ]
  },
  {
   "cell_type": "code",
   "execution_count": 9,
   "metadata": {},
   "outputs": [
    {
     "name": "stdout",
     "output_type": "stream",
     "text": [
      "Type: torch.FloatTensor\n",
      "Shape: torch.Size([3, 2])\n",
      "value: \n",
      "tensor([[6.1368e-37, 0.0000e+00],\n",
      "        [1.4013e-45, 0.0000e+00],\n",
      "        [6.3805e-37, 0.0000e+00]])\n"
     ]
    }
   ],
   "source": [
    "describe(torch.Tensor(3,2))\n"
   ]
  },
  {
   "cell_type": "markdown",
   "metadata": {},
   "source": [
    "## create random tensor"
   ]
  },
  {
   "cell_type": "code",
   "execution_count": 10,
   "metadata": {},
   "outputs": [
    {
     "name": "stdout",
     "output_type": "stream",
     "text": [
      "Type: torch.FloatTensor\n",
      "Shape: torch.Size([2, 3])\n",
      "value: \n",
      "tensor([[0.6512, 0.6514, 0.2838],\n",
      "        [0.7903, 0.3043, 0.1813]])\n",
      "Type: torch.FloatTensor\n",
      "Shape: torch.Size([2, 3])\n",
      "value: \n",
      "tensor([[ 0.3043, -1.1281,  0.2105],\n",
      "        [ 0.0271,  0.8911, -2.2315]])\n"
     ]
    }
   ],
   "source": [
    "describe(torch.rand(2,3))\n",
    "describe(torch.randn(2,3))\n"
   ]
  },
  {
   "cell_type": "code",
   "execution_count": 13,
   "metadata": {},
   "outputs": [
    {
     "name": "stdout",
     "output_type": "stream",
     "text": [
      "Type: torch.FloatTensor\n",
      "Shape: torch.Size([2, 3])\n",
      "value: \n",
      "tensor([[0., 0., 0.],\n",
      "        [0., 0., 0.]])\n"
     ]
    }
   ],
   "source": [
    "x = torch.zeros(2,3)\n",
    "describe(x)"
   ]
  },
  {
   "cell_type": "code",
   "execution_count": 14,
   "metadata": {},
   "outputs": [
    {
     "name": "stdout",
     "output_type": "stream",
     "text": [
      "Type: torch.FloatTensor\n",
      "Shape: torch.Size([2, 3])\n",
      "value: \n",
      "tensor([[5., 5., 5.],\n",
      "        [5., 5., 5.]])\n"
     ]
    }
   ],
   "source": [
    "x.fill_(5)\n",
    "describe(x)"
   ]
  },
  {
   "cell_type": "code",
   "execution_count": 15,
   "metadata": {},
   "outputs": [
    {
     "name": "stdout",
     "output_type": "stream",
     "text": [
      "Type: torch.FloatTensor\n",
      "Shape: torch.Size([2, 3])\n",
      "value: \n",
      "tensor([[1., 1., 1.],\n",
      "        [1., 1., 1.]])\n"
     ]
    }
   ],
   "source": [
    "x= torch.ones(2,3)\n",
    "describe(x)"
   ]
  },
  {
   "cell_type": "code",
   "execution_count": 17,
   "metadata": {},
   "outputs": [
    {
     "name": "stdout",
     "output_type": "stream",
     "text": [
      "Type: torch.FloatTensor\n",
      "Shape: torch.Size([2, 3])\n",
      "value: \n",
      "tensor([[1., 2., 3.],\n",
      "        [2., 3., 4.]])\n"
     ]
    }
   ],
   "source": [
    "x= torch.Tensor([[1,2,3],[2,3,4]])\n",
    "describe(x)"
   ]
  },
  {
   "cell_type": "markdown",
   "metadata": {},
   "source": [
    "## Using from_numpy() function"
   ]
  },
  {
   "cell_type": "code",
   "execution_count": 20,
   "metadata": {},
   "outputs": [
    {
     "data": {
      "text/plain": [
       "array([[0.92696343, 0.30059361, 0.96526695],\n",
       "       [0.34390173, 0.35545433, 0.65300339]])"
      ]
     },
     "execution_count": 20,
     "metadata": {},
     "output_type": "execute_result"
    }
   ],
   "source": [
    "nump_arr = np.random.rand(2,3)\n",
    "nump_arr"
   ]
  },
  {
   "cell_type": "code",
   "execution_count": 23,
   "metadata": {},
   "outputs": [
    {
     "name": "stdout",
     "output_type": "stream",
     "text": [
      "Type: torch.DoubleTensor\n",
      "Shape: torch.Size([2, 3])\n",
      "value: \n",
      "tensor([[0.9270, 0.3006, 0.9653],\n",
      "        [0.3439, 0.3555, 0.6530]], dtype=torch.float64)\n"
     ]
    }
   ],
   "source": [
    "describe(torch.from_numpy(nump_arr))"
   ]
  },
  {
   "cell_type": "markdown",
   "metadata": {},
   "source": [
    "# Types and size"
   ]
  },
  {
   "cell_type": "code",
   "execution_count": 25,
   "metadata": {},
   "outputs": [
    {
     "name": "stdout",
     "output_type": "stream",
     "text": [
      "Type: torch.FloatTensor\n",
      "Shape: torch.Size([2, 4])\n",
      "value: \n",
      "tensor([[  2.,   3.,  54.,   1.],\n",
      "        [  1., 232.,   1.,  43.]])\n"
     ]
    }
   ],
   "source": [
    "x = torch.FloatTensor([[2,3,54,1],[1,232,1,43]])\n",
    "describe(x)"
   ]
  },
  {
   "cell_type": "code",
   "execution_count": 26,
   "metadata": {},
   "outputs": [
    {
     "name": "stdout",
     "output_type": "stream",
     "text": [
      "Type: torch.LongTensor\n",
      "Shape: torch.Size([2, 4])\n",
      "value: \n",
      "tensor([[  2,   3,  54,   1],\n",
      "        [  1, 232,   1,  43]])\n"
     ]
    }
   ],
   "source": [
    "x = x.long()\n",
    "describe(x)"
   ]
  },
  {
   "cell_type": "code",
   "execution_count": 28,
   "metadata": {},
   "outputs": [
    {
     "name": "stdout",
     "output_type": "stream",
     "text": [
      "Type: torch.LongTensor\n",
      "Shape: torch.Size([2, 4])\n",
      "value: \n",
      "tensor([[  2,   3,  54,   1],\n",
      "        [  1, 232,   1,  43]])\n"
     ]
    }
   ],
   "source": [
    "x = torch.tensor([[2,3,54,1],[1,232,1,43]], dtype=torch.int64)\n",
    "describe(x)"
   ]
  },
  {
   "cell_type": "code",
   "execution_count": 29,
   "metadata": {},
   "outputs": [
    {
     "name": "stdout",
     "output_type": "stream",
     "text": [
      "Type: torch.FloatTensor\n",
      "Shape: torch.Size([2, 4])\n",
      "value: \n",
      "tensor([[  2.,   3.,  54.,   1.],\n",
      "        [  1., 232.,   1.,  43.]])\n"
     ]
    }
   ],
   "source": [
    "x=x.float()\n",
    "describe(x)"
   ]
  },
  {
   "cell_type": "markdown",
   "metadata": {},
   "source": [
    "# Tensor operations\n",
    "\n"
   ]
  },
  {
   "cell_type": "code",
   "execution_count": 31,
   "metadata": {},
   "outputs": [
    {
     "name": "stdout",
     "output_type": "stream",
     "text": [
      "Type: torch.LongTensor\n",
      "Shape: torch.Size([2, 4])\n",
      "value: \n",
      "tensor([[  4,   6, 108,   2],\n",
      "        [  2, 464,   2,  86]])\n"
     ]
    }
   ],
   "source": [
    "x = torch.tensor([[2,3,54,1],[1,232,1,43]], dtype=torch.int64)\n",
    "describe(x+x)"
   ]
  },
  {
   "cell_type": "code",
   "execution_count": 37,
   "metadata": {},
   "outputs": [
    {
     "name": "stdout",
     "output_type": "stream",
     "text": [
      "Type: torch.LongTensor\n",
      "Shape: torch.Size([2, 4])\n",
      "value: \n",
      "tensor([[  4,   6, 108,   2],\n",
      "        [  2, 464,   2,  86]])\n"
     ]
    }
   ],
   "source": [
    "describe(x*2)"
   ]
  },
  {
   "cell_type": "code",
   "execution_count": 45,
   "metadata": {},
   "outputs": [
    {
     "name": "stdout",
     "output_type": "stream",
     "text": [
      "Type: torch.FloatTensor\n",
      "Shape: torch.Size([2, 4])\n",
      "value: \n",
      "tensor([[ 0.5000,  0.7500, 13.5000,  0.2500],\n",
      "        [ 0.2500, 58.0000,  0.2500, 10.7500]])\n"
     ]
    }
   ],
   "source": [
    "x=x.float()\n",
    "describe(x/4)"
   ]
  },
  {
   "cell_type": "code",
   "execution_count": 48,
   "metadata": {},
   "outputs": [
    {
     "name": "stdout",
     "output_type": "stream",
     "text": [
      "Type: torch.LongTensor\n",
      "Shape: torch.Size([100])\n",
      "value: \n",
      "tensor([ 0,  1,  2,  3,  4,  5,  6,  7,  8,  9, 10, 11, 12, 13, 14, 15, 16, 17,\n",
      "        18, 19, 20, 21, 22, 23, 24, 25, 26, 27, 28, 29, 30, 31, 32, 33, 34, 35,\n",
      "        36, 37, 38, 39, 40, 41, 42, 43, 44, 45, 46, 47, 48, 49, 50, 51, 52, 53,\n",
      "        54, 55, 56, 57, 58, 59, 60, 61, 62, 63, 64, 65, 66, 67, 68, 69, 70, 71,\n",
      "        72, 73, 74, 75, 76, 77, 78, 79, 80, 81, 82, 83, 84, 85, 86, 87, 88, 89,\n",
      "        90, 91, 92, 93, 94, 95, 96, 97, 98, 99])\n"
     ]
    }
   ],
   "source": [
    "y = torch.arange(100)\n",
    "describe(y)"
   ]
  },
  {
   "cell_type": "code",
   "execution_count": 49,
   "metadata": {},
   "outputs": [
    {
     "name": "stdout",
     "output_type": "stream",
     "text": [
      "Type: torch.LongTensor\n",
      "Shape: torch.Size([10, 10])\n",
      "value: \n",
      "tensor([[ 0,  1,  2,  3,  4,  5,  6,  7,  8,  9],\n",
      "        [10, 11, 12, 13, 14, 15, 16, 17, 18, 19],\n",
      "        [20, 21, 22, 23, 24, 25, 26, 27, 28, 29],\n",
      "        [30, 31, 32, 33, 34, 35, 36, 37, 38, 39],\n",
      "        [40, 41, 42, 43, 44, 45, 46, 47, 48, 49],\n",
      "        [50, 51, 52, 53, 54, 55, 56, 57, 58, 59],\n",
      "        [60, 61, 62, 63, 64, 65, 66, 67, 68, 69],\n",
      "        [70, 71, 72, 73, 74, 75, 76, 77, 78, 79],\n",
      "        [80, 81, 82, 83, 84, 85, 86, 87, 88, 89],\n",
      "        [90, 91, 92, 93, 94, 95, 96, 97, 98, 99]])\n"
     ]
    }
   ],
   "source": [
    "describe(y.view(10,10))"
   ]
  },
  {
   "cell_type": "code",
   "execution_count": 54,
   "metadata": {},
   "outputs": [
    {
     "name": "stdout",
     "output_type": "stream",
     "text": [
      "Type: torch.LongTensor\n",
      "Shape: torch.Size([10])\n",
      "value: \n",
      "tensor([450, 460, 470, 480, 490, 500, 510, 520, 530, 540])\n"
     ]
    }
   ],
   "source": [
    "describe(torch.sum(y.view(10,10), dim=0))"
   ]
  },
  {
   "cell_type": "code",
   "execution_count": 57,
   "metadata": {},
   "outputs": [
    {
     "name": "stdout",
     "output_type": "stream",
     "text": [
      "Type: torch.LongTensor\n",
      "Shape: torch.Size([10, 10])\n",
      "value: \n",
      "tensor([[ 0, 10, 20, 30, 40, 50, 60, 70, 80, 90],\n",
      "        [ 1, 11, 21, 31, 41, 51, 61, 71, 81, 91],\n",
      "        [ 2, 12, 22, 32, 42, 52, 62, 72, 82, 92],\n",
      "        [ 3, 13, 23, 33, 43, 53, 63, 73, 83, 93],\n",
      "        [ 4, 14, 24, 34, 44, 54, 64, 74, 84, 94],\n",
      "        [ 5, 15, 25, 35, 45, 55, 65, 75, 85, 95],\n",
      "        [ 6, 16, 26, 36, 46, 56, 66, 76, 86, 96],\n",
      "        [ 7, 17, 27, 37, 47, 57, 67, 77, 87, 97],\n",
      "        [ 8, 18, 28, 38, 48, 58, 68, 78, 88, 98],\n",
      "        [ 9, 19, 29, 39, 49, 59, 69, 79, 89, 99]])\n"
     ]
    }
   ],
   "source": [
    "w= y.view(10,10)\n",
    "# w= torch.transpose(w,0,1)\n",
    "w=w.transpose(0,1)\n",
    "describe(w)"
   ]
  },
  {
   "cell_type": "markdown",
   "metadata": {},
   "source": [
    "## Indexing, slicing and joining"
   ]
  },
  {
   "cell_type": "code",
   "execution_count": 64,
   "metadata": {},
   "outputs": [
    {
     "data": {
      "text/plain": [
       "tensor([[42, 52, 62, 72, 82, 92],\n",
       "        [43, 53, 63, 73, 83, 93],\n",
       "        [44, 54, 64, 74, 84, 94]])"
      ]
     },
     "execution_count": 64,
     "metadata": {},
     "output_type": "execute_result"
    }
   ],
   "source": [
    "w[2:5,4:10]"
   ]
  },
  {
   "cell_type": "code",
   "execution_count": 69,
   "metadata": {},
   "outputs": [
    {
     "name": "stdout",
     "output_type": "stream",
     "text": [
      "Type: torch.LongTensor\n",
      "Shape: torch.Size([1])\n",
      "value: \n",
      "tensor([5])\n"
     ]
    }
   ],
   "source": [
    "describe(w[5,:1])"
   ]
  },
  {
   "cell_type": "code",
   "execution_count": 75,
   "metadata": {},
   "outputs": [
    {
     "data": {
      "text/plain": [
       "tensor([[ 3, 13, 23, 33, 43, 53, 63, 73, 83, 93],\n",
       "        [ 2, 12, 22, 32, 42, 52, 62, 72, 82, 92],\n",
       "        [ 9, 19, 29, 39, 49, 59, 69, 79, 89, 99]])"
      ]
     },
     "execution_count": 75,
     "metadata": {},
     "output_type": "execute_result"
    }
   ],
   "source": [
    "indexes = torch.LongTensor([3,2, 9])\n",
    "torch.index_select(w, dim=0,index=indexes)"
   ]
  },
  {
   "cell_type": "code",
   "execution_count": 80,
   "metadata": {},
   "outputs": [
    {
     "name": "stdout",
     "output_type": "stream",
     "text": [
      "Type: torch.FloatTensor\n",
      "Shape: torch.Size([2, 8])\n",
      "value: \n",
      "tensor([[  2.,   3.,  54.,   1.,   2.,   3.,  54.,   1.],\n",
      "        [  1., 232.,   1.,  43.,   1., 232.,   1.,  43.]])\n"
     ]
    }
   ],
   "source": [
    "describe(torch.cat([x,x] , dim=1))"
   ]
  },
  {
   "cell_type": "code",
   "execution_count": 85,
   "metadata": {},
   "outputs": [
    {
     "name": "stdout",
     "output_type": "stream",
     "text": [
      "Type: torch.FloatTensor\n",
      "Shape: torch.Size([2, 2, 4])\n",
      "value: \n",
      "tensor([[[  2.,   3.,  54.,   1.],\n",
      "         [  1., 232.,   1.,  43.]],\n",
      "\n",
      "        [[  2.,   3.,  54.,   1.],\n",
      "         [  1., 232.,   1.,  43.]]])\n"
     ]
    }
   ],
   "source": [
    "describe(torch.stack([x,x]))"
   ]
  },
  {
   "cell_type": "code",
   "execution_count": 87,
   "metadata": {},
   "outputs": [],
   "source": [
    "a = torch.arange(100).view(10,10)"
   ]
  },
  {
   "cell_type": "code",
   "execution_count": 90,
   "metadata": {},
   "outputs": [
    {
     "name": "stdout",
     "output_type": "stream",
     "text": [
      "Type: torch.FloatTensor\n",
      "Shape: torch.Size([10, 10])\n",
      "value: \n",
      "tensor([[1., 2., 2., 1., 1., 1., 1., 1., 1., 1.],\n",
      "        [1., 2., 2., 1., 1., 1., 1., 1., 1., 1.],\n",
      "        [1., 2., 2., 1., 1., 1., 1., 1., 1., 1.],\n",
      "        [1., 2., 2., 1., 1., 1., 1., 1., 1., 1.],\n",
      "        [1., 2., 2., 1., 1., 1., 1., 1., 1., 1.],\n",
      "        [1., 2., 2., 1., 1., 1., 1., 1., 1., 1.],\n",
      "        [1., 2., 2., 1., 1., 1., 1., 1., 1., 1.],\n",
      "        [1., 2., 2., 1., 1., 1., 1., 1., 1., 1.],\n",
      "        [1., 2., 2., 1., 1., 1., 1., 1., 1., 1.],\n",
      "        [1., 2., 2., 1., 1., 1., 1., 1., 1., 1.]])\n"
     ]
    }
   ],
   "source": [
    "b = torch.ones(10,10)\n",
    "b[:,1:3] +=1\n",
    "describe(b)"
   ]
  },
  {
   "cell_type": "code",
   "execution_count": 92,
   "metadata": {},
   "outputs": [
    {
     "data": {
      "text/plain": [
       "tensor([[  45,   90,   90,   45,   45,   45,   45,   45,   45,   45],\n",
       "        [ 145,  290,  290,  145,  145,  145,  145,  145,  145,  145],\n",
       "        [ 245,  490,  490,  245,  245,  245,  245,  245,  245,  245],\n",
       "        [ 345,  690,  690,  345,  345,  345,  345,  345,  345,  345],\n",
       "        [ 445,  890,  890,  445,  445,  445,  445,  445,  445,  445],\n",
       "        [ 545, 1090, 1090,  545,  545,  545,  545,  545,  545,  545],\n",
       "        [ 645, 1290, 1290,  645,  645,  645,  645,  645,  645,  645],\n",
       "        [ 745, 1490, 1490,  745,  745,  745,  745,  745,  745,  745],\n",
       "        [ 845, 1690, 1690,  845,  845,  845,  845,  845,  845,  845],\n",
       "        [ 945, 1890, 1890,  945,  945,  945,  945,  945,  945,  945]])"
      ]
     },
     "execution_count": 92,
     "metadata": {},
     "output_type": "execute_result"
    }
   ],
   "source": [
    "torch.mm(a.long(),b.long())"
   ]
  },
  {
   "cell_type": "code",
   "execution_count": null,
   "metadata": {},
   "outputs": [],
   "source": []
  }
 ],
 "metadata": {
  "kernelspec": {
   "display_name": "Python 3",
   "language": "python",
   "name": "python3"
  },
  "language_info": {
   "codemirror_mode": {
    "name": "ipython",
    "version": 3
   },
   "file_extension": ".py",
   "mimetype": "text/x-python",
   "name": "python",
   "nbconvert_exporter": "python",
   "pygments_lexer": "ipython3",
   "version": "3.6.9"
  }
 },
 "nbformat": 4,
 "nbformat_minor": 4
}
